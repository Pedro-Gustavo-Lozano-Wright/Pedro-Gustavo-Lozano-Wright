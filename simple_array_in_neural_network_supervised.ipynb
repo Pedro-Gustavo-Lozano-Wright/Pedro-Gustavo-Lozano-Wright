{
  "nbformat": 4,
  "nbformat_minor": 0,
  "metadata": {
    "colab": {
      "name": "simple_array_in_neural_network_supervised.ipynb",
      "provenance": [],
      "authorship_tag": "ABX9TyP5TqV5ie+/+j8Gpvt7rckS",
      "include_colab_link": true
    },
    "kernelspec": {
      "name": "python3",
      "display_name": "Python 3"
    },
    "language_info": {
      "name": "python"
    }
  },
  "cells": [
    {
      "cell_type": "markdown",
      "metadata": {
        "id": "view-in-github",
        "colab_type": "text"
      },
      "source": [
        "<a href=\"https://colab.research.google.com/github/Pedro-Gustavo-Lozano-Wright/Pedro-Gustavo-Lozano-Wright/blob/main/simple_array_in_neural_network_supervised.ipynb\" target=\"_parent\"><img src=\"https://colab.research.google.com/assets/colab-badge.svg\" alt=\"Open In Colab\"/></a>"
      ]
    },
    {
      "cell_type": "code",
      "metadata": {
        "id": "jPeRRQ0PG5l4"
      },
      "source": [
        "import tensorflow as tf\n",
        "import numpy as np\n",
        "from tensorflow import keras\n",
        "\n",
        "#dense - todas las neuronas de entrada estan conectasdas con las de salida\n",
        "model = tf.keras.Sequential([keras.layers.Dense(units=1, input_shape=[1])])\n",
        "ejemplos_de_entrada = np.array([-1, 0, 1, 2, 3, 4], dtype=float)\n",
        "ejemplos_de_salida = np.array([-3, -1, 1, 3, 5, 7], dtype=float)\n",
        "model.compile(optimizer=\"sgd\", loss=\"mean_squared_error\")# loss es el error\n",
        "#               stocastic gradient descent\n",
        "model.fit(ejemplos_de_entrada, ejemplos_de_salida, epochs=1000)\n",
        "print(\"\")\n",
        "print(\"prediccion para 10:\", model.predict([10.0]))\n",
        "\n"
      ],
      "execution_count": null,
      "outputs": []
    },
    {
      "cell_type": "code",
      "metadata": {
        "id": "kQon7BJbh-GO"
      },
      "source": [
        ""
      ],
      "execution_count": null,
      "outputs": []
    }
  ]
}